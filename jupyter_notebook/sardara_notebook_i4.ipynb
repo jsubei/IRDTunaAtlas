{
 "cells": [
  {
   "cell_type": "markdown",
   "metadata": {},
   "source": [
    "# Indicators i1 & i2 of IRD Tuna Atlas\n",
    "\n",
    "This notebook is available on https://github.com/juldebar/IRDTunaAtlas/blob/master/jupyter_notebook/sardara_notebook_i1i2.ipynb \n",
    "\n",
    "This notebook has been written and executed on https://blue-cloud-jupyterhub.d4science.org/ \n",
    "\n",
    "It uses data provided by Fishereries Atlas VRE\n",
    "\n",
    "It can be used as a documentation of underlying processes used by the related shiny app https://github.com/juldebar/IRDTunaAtlas/blob/master/shiny/sardara_shiny_i1i2.Rmd\n",
    "\n",
    "## Load R packages"
   ]
  },
  {
   "cell_type": "code",
   "execution_count": null,
   "metadata": {},
   "outputs": [],
   "source": [
    "library(DBI)\n",
    "library(sp)\n",
    "library(sf)\n",
    "library(plyr)\n",
    "library(dplyr)\n",
    "library(ggplot2)\n",
    "library(plotly)"
   ]
  },
  {
   "cell_type": "markdown",
   "metadata": {},
   "source": [
    "## 1. Connect the database"
   ]
  },
  {
   "cell_type": "code",
   "execution_count": 2,
   "metadata": {},
   "outputs": [],
   "source": [
    "#######################\n",
    "##Database Identifiers: tunaatlas / db-tunaatlas\n",
    "source(file = \"credentials.R\")\n",
    "con <- dbConnect(drv=DRV,  dbname = Dbname, host = Host , user=User, password=Password,port=\"5432\")\n",
    "source(\"https://raw.githubusercontent.com/juldebar/IRDTunaAtlas/master/R/TunaAtlas_i4_SpeciesMonthByOcean.R\")"
   ]
  },
  {
   "cell_type": "markdown",
   "metadata": {},
   "source": [
    "## 2. Execute SQL query to get data"
   ]
  },
  {
   "cell_type": "code",
   "execution_count": null,
   "metadata": {},
   "outputs": [],
   "source": [
    "new_wkt <- 'POLYGON((-180 -90, 180 -90, 180 90, -180 90, -180 -90))'\n",
    "wkt <- new_wkt\n",
    "target_species <- c(\"YFT\")\n",
    "target_ocean <- c(\"ICCAT\",\"IATTC\",\"IOTC\", \"CCSBT\")\n",
    "target_gear <- c(\"PS\",\"BB\")\n",
    "target_year <-  c(\"2000\",\"2001\",\"2002\")\n",
    "\n",
    "query_i4 <- \"select species, year, month, ocean, value from public.i4 ;\"\n",
    "df_i4 <- st_read(con, query=query_i4)\n",
    "species = unique(df_i4$species)\n",
    "year = unique(df_i4$year)"
   ]
  },
  {
   "cell_type": "markdown",
   "metadata": {},
   "source": [
    "## 3. Plot data with indicator 4"
   ]
  },
  {
   "cell_type": "code",
   "execution_count": null,
   "metadata": {},
   "outputs": [],
   "source": [
    "if(wkt!=new_wkt){\n",
    "  df_i4 = st_read(con, query =  paste0(\"SELECT species, ocean, year, month, sum(value) as value, unit, st_collect(geom) FROM public.i4_spatial WHERE ST_Within(geom,ST_GeomFromText('\",wkt,\"',4326)) GROUP BY species, ocean, year, month, unit ;\"))\n",
    "}\n",
    "\n",
    "#Filtering input dataset with selected parameters\n",
    "df_i4_filtered <- df_i4 %>% filter(year %in% target_year, species %in% target_species) \n",
    "\n",
    "i4 <- Atlas_i4_SpeciesMonthByOcean(df=as.data.frame(df_i4_filtered), \n",
    "                                          oceanAttributeName=\"ocean\", \n",
    "                                          yearAttributeName=\"year\", \n",
    "                                          monthAttributeName=\"month\",\n",
    "                                          speciesAttributeName=\"species\", \n",
    "                                          valueAttributeName=\"value\",\n",
    "                                   withSparql=FALSE\n",
    "                                      )\n",
    "i4\n",
    "ggplotly(i4)"
   ]
  }
 ],
 "metadata": {
  "kernelspec": {
   "display_name": "R",
   "language": "R",
   "name": "ir"
  },
  "language_info": {
   "codemirror_mode": "r",
   "file_extension": ".r",
   "mimetype": "text/x-r-source",
   "name": "R",
   "pygments_lexer": "r",
   "version": "4.0.5"
  }
 },
 "nbformat": 4,
 "nbformat_minor": 4
}
