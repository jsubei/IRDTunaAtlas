{
 "cells": [
  {
   "cell_type": "markdown",
   "metadata": {},
   "source": [
    "# Indicators i6 & i7 & i8 of IRD Tuna Atlas\n",
    "\n",
    "This notebook is available on https://github.com/juldebar/IRDTunaAtlas/blob/master/jupyter_notebook/sardara_notebook_i6i7i8.Rmd\n",
    "\n",
    "This notebook has been written and executed on https://blue-cloud-jupyterhub.d4science.org/ \n",
    "\n",
    "It uses data provided by Fishereries Atlas VRE\n",
    "\n",
    "It can be used as a documentation of underlying processes used by the related shiny app  https://github.com/juldebar/IRDTunaAtlas/blob/master/shiny/sardara_shiny_i6i7i8.Rmd\n",
    "\n",
    "## Load R packages"
   ]
  },
  {
   "cell_type": "code",
   "execution_count": null,
   "metadata": {},
   "outputs": [],
   "source": [
    "library(DBI)\n",
    "library(sp)\n",
    "library(sf)\n",
    "library(plyr)\n",
    "library(dplyr)\n",
    "library(ggplot2)\n",
    "library(plotly)\n",
    "install.packages(\"maps\")\n",
    "library(maps)"
   ]
  },
  {
   "cell_type": "markdown",
   "metadata": {},
   "source": [
    "## 1. Connect the database"
   ]
  },
  {
   "cell_type": "code",
   "execution_count": 5,
   "metadata": {},
   "outputs": [],
   "source": [
    "#######################\n",
    "##Database Identifiers: tunaatlas / db-tunaatlas\n",
    "source(file = \"credentials.R\")\n",
    "con <- dbConnect(drv=DRV,  dbname = Dbname, host = Host , user=User, password=Password,port=\"5432\")\n",
    "source(\"https://raw.githubusercontent.com/juldebar/IRDTunaAtlas/master/R/TunaAtlas_i6_SpeciesMap.R\")\n",
    "source(\"https://raw.githubusercontent.com/juldebar/IRDTunaAtlas/master/R/TunaAtlas_i7_SpeciesMapRelativeCatches.R\")\n",
    "source(\"https://raw.githubusercontent.com/juldebar/IRDTunaAtlas/master/R/TunaAtlas_i8_SpeciesMapRelativeCatchesOtherSpecies.R\")"
   ]
  },
  {
   "cell_type": "markdown",
   "metadata": {},
   "source": [
    "## 2. Execute SQL query to get data"
   ]
  },
  {
   "cell_type": "code",
   "execution_count": null,
   "metadata": {},
   "outputs": [],
   "source": [
    "new_wkt <- 'POLYGON((-180 -90, 180 -90, 180 90, -180 90, -180 -90))'\n",
    "wkt <- new_wkt\n",
    "\n",
    "target_species <- c(\"YFT\",\"BET\",\"SKJ\")\n",
    "target_year <- c(seq(1:10)+1994)\n",
    "#query_i6i7i8 <- paste0(\"SELECT ogc_fid, geom_id, geom, year, species, country, value, count FROM i6i7i8 WHERE species IN ('\",paste0(target_species,collapse=\"','\"),\"') AND year IN ('\",paste0(target_year,collapse=\"','\"),\"');\")\n",
    "query_i6i7i8 <- paste0(\"SELECT ogc_fid, geom_id, geom, year, species, country, value, count FROM i6i7i8;\")\n",
    "\n",
    "\n",
    "df_i6i7i8 = st_read(con, query = query_i6i7i8)\n",
    "all_years = unique(df_i6i7i8$year)\n",
    "all_species = unique(df_i6i7i8$species)\n",
    "all_years\n",
    "all_species"
   ]
  },
  {
   "cell_type": "markdown",
   "metadata": {},
   "source": [
    "## 3. Plot data with indicator 8"
   ]
  },
  {
   "cell_type": "code",
   "execution_count": null,
   "metadata": {},
   "outputs": [],
   "source": [
    "df_i6i7i8_filtered <- df_i6i7i8 %>% filter(year %in% target_year, species %in% target_species)\n",
    "df_i8_filtered <- as(df_i6i7i8_filtered, \"Spatial\")\n",
    "\n",
    "i8 <- Atlas_i8_SpeciesMapRelativeCatchesOtherSpecies(df=df_i8_filtered,\n",
    "                                             targetedSpecies=target_species[1],\n",
    "                                             geomIdAttributeName=\"geom_id\",\n",
    "                                             yearAttributeName=\"year\",\n",
    "                                             speciesAttributeName=\"species\",\n",
    "                                             valueAttributeName=\"value\",\n",
    "                          withSparql=FALSE\n",
    "                          )\n",
    "\n",
    "i8 "
   ]
  },
  {
   "cell_type": "markdown",
   "metadata": {},
   "source": [
    "## 4. Plot data with indicator 7"
   ]
  },
  {
   "cell_type": "code",
   "execution_count": null,
   "metadata": {},
   "outputs": [],
   "source": [
    "df_i6i7i8_filtered <- df_i6i7i8 %>% filter(year == 2000, species == 'YFT')\n",
    "df_i7_filtered <- as(df_i6i7i8_filtered, \"Spatial\")\n",
    "\n",
    "i7 <-  Atlas_i7_SpeciesMapRelativeCatches(df=df_i7_filtered, \n",
    "                              geomIdAttributeName=\"geom_id\",\n",
    "                              yearAttributeName=\"year\", \n",
    "                              speciesAttributeName=\"species\",                                         \n",
    "                              valueAttributeName=\"value\",\n",
    "                          withSparql=FALSE\n",
    "                          )\n",
    "    \n",
    "i7"
   ]
  },
  {
   "cell_type": "markdown",
   "metadata": {},
   "source": [
    "## 5. Plot data with indicator 6"
   ]
  },
  {
   "cell_type": "code",
   "execution_count": null,
   "metadata": {},
   "outputs": [],
   "source": [
    "df_i6i7i8_filtered <- df_i6i7i8 %>% filter(year == 2002, species == 'YFT')\n",
    "df_i6_filtered <- as(df_i6i7i8_filtered, \"Spatial\")\n",
    "\n",
    "i6 <- Atlas_i6_SpeciesMap(df=df_i6_filtered,\n",
    "                          geomIdAttributeName=\"geom_id\",\n",
    "                          yearAttributeName=\"year\",\n",
    "                          speciesAttributeName=\"species\",\n",
    "                          valueAttributeName=\"value\",\n",
    "                          withSparql=FALSE\n",
    "                          )\n",
    "i6"
   ]
  }
 ],
 "metadata": {
  "kernelspec": {
   "display_name": "R",
   "language": "R",
   "name": "ir"
  },
  "language_info": {
   "codemirror_mode": "r",
   "file_extension": ".r",
   "mimetype": "text/x-r-source",
   "name": "R",
   "pygments_lexer": "r",
   "version": "4.0.5"
  }
 },
 "nbformat": 4,
 "nbformat_minor": 4
}
